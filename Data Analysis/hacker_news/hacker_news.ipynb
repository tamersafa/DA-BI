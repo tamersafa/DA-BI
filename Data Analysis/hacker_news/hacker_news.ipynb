{
 "cells": [
  {
   "cell_type": "markdown",
   "metadata": {},
   "source": [
    "We're interested in posts with titles that begin with either Ask HN or Show HN. Users submit Ask HN posts to ask the Hacker News community a specific question.\n",
    "\n",
    "Likewise, users submit Show HN posts to show the Hacker News community a project, product, or just something interesting."
   ]
  },
  {
   "cell_type": "markdown",
   "metadata": {},
   "source": [
    "We'll compare these two types of posts to determine the following:\n",
    "\n",
    "1. Do Ask HN or Show HN receive more comments on average?\n",
    "2. Do posts created at a certain time receive more comments on average?\n",
    "3. Do Ask HN or Show HN receive more points on average?\n",
    "4. Are posts created at a certain time more likely to receive more points?\n",
    "5. Compare results to the average number of comments and points other posts receive."
   ]
  },
  {
   "cell_type": "code",
   "execution_count": 2,
   "metadata": {},
   "outputs": [],
   "source": [
    "import pandas as pd"
   ]
  },
  {
   "cell_type": "code",
   "execution_count": 3,
   "metadata": {},
   "outputs": [],
   "source": [
    "url = \"hacker_news.csv\""
   ]
  },
  {
   "cell_type": "code",
   "execution_count": 4,
   "metadata": {},
   "outputs": [],
   "source": [
    "df = pd.read_csv(url)"
   ]
  },
  {
   "cell_type": "code",
   "execution_count": 5,
   "metadata": {},
   "outputs": [
    {
     "data": {
      "text/html": [
       "<div>\n",
       "<style scoped>\n",
       "    .dataframe tbody tr th:only-of-type {\n",
       "        vertical-align: middle;\n",
       "    }\n",
       "\n",
       "    .dataframe tbody tr th {\n",
       "        vertical-align: top;\n",
       "    }\n",
       "\n",
       "    .dataframe thead th {\n",
       "        text-align: right;\n",
       "    }\n",
       "</style>\n",
       "<table border=\"1\" class=\"dataframe\">\n",
       "  <thead>\n",
       "    <tr style=\"text-align: right;\">\n",
       "      <th></th>\n",
       "      <th>id</th>\n",
       "      <th>title</th>\n",
       "      <th>url</th>\n",
       "      <th>num_points</th>\n",
       "      <th>num_comments</th>\n",
       "      <th>author</th>\n",
       "      <th>created_at</th>\n",
       "    </tr>\n",
       "  </thead>\n",
       "  <tbody>\n",
       "    <tr>\n",
       "      <th>0</th>\n",
       "      <td>12224879</td>\n",
       "      <td>Interactive Dynamic Video</td>\n",
       "      <td>http://www.interactivedynamicvideo.com/</td>\n",
       "      <td>386</td>\n",
       "      <td>52</td>\n",
       "      <td>ne0phyte</td>\n",
       "      <td>8/4/2016 11:52</td>\n",
       "    </tr>\n",
       "    <tr>\n",
       "      <th>1</th>\n",
       "      <td>10975351</td>\n",
       "      <td>How to Use Open Source and Shut the Fuck Up at...</td>\n",
       "      <td>http://hueniverse.com/2016/01/26/how-to-use-op...</td>\n",
       "      <td>39</td>\n",
       "      <td>10</td>\n",
       "      <td>josep2</td>\n",
       "      <td>1/26/2016 19:30</td>\n",
       "    </tr>\n",
       "    <tr>\n",
       "      <th>2</th>\n",
       "      <td>11964716</td>\n",
       "      <td>Florida DJs May Face Felony for April Fools' W...</td>\n",
       "      <td>http://www.thewire.com/entertainment/2013/04/f...</td>\n",
       "      <td>2</td>\n",
       "      <td>1</td>\n",
       "      <td>vezycash</td>\n",
       "      <td>6/23/2016 22:20</td>\n",
       "    </tr>\n",
       "    <tr>\n",
       "      <th>3</th>\n",
       "      <td>11919867</td>\n",
       "      <td>Technology ventures: From Idea to Enterprise</td>\n",
       "      <td>https://www.amazon.com/Technology-Ventures-Ent...</td>\n",
       "      <td>3</td>\n",
       "      <td>1</td>\n",
       "      <td>hswarna</td>\n",
       "      <td>6/17/2016 0:01</td>\n",
       "    </tr>\n",
       "    <tr>\n",
       "      <th>4</th>\n",
       "      <td>10301696</td>\n",
       "      <td>Note by Note: The Making of Steinway L1037 (2007)</td>\n",
       "      <td>http://www.nytimes.com/2007/11/07/movies/07ste...</td>\n",
       "      <td>8</td>\n",
       "      <td>2</td>\n",
       "      <td>walterbell</td>\n",
       "      <td>9/30/2015 4:12</td>\n",
       "    </tr>\n",
       "  </tbody>\n",
       "</table>\n",
       "</div>"
      ],
      "text/plain": [
       "         id                                              title  \\\n",
       "0  12224879                          Interactive Dynamic Video   \n",
       "1  10975351  How to Use Open Source and Shut the Fuck Up at...   \n",
       "2  11964716  Florida DJs May Face Felony for April Fools' W...   \n",
       "3  11919867       Technology ventures: From Idea to Enterprise   \n",
       "4  10301696  Note by Note: The Making of Steinway L1037 (2007)   \n",
       "\n",
       "                                                 url  num_points  \\\n",
       "0            http://www.interactivedynamicvideo.com/         386   \n",
       "1  http://hueniverse.com/2016/01/26/how-to-use-op...          39   \n",
       "2  http://www.thewire.com/entertainment/2013/04/f...           2   \n",
       "3  https://www.amazon.com/Technology-Ventures-Ent...           3   \n",
       "4  http://www.nytimes.com/2007/11/07/movies/07ste...           8   \n",
       "\n",
       "   num_comments      author       created_at  \n",
       "0            52    ne0phyte   8/4/2016 11:52  \n",
       "1            10      josep2  1/26/2016 19:30  \n",
       "2             1    vezycash  6/23/2016 22:20  \n",
       "3             1     hswarna   6/17/2016 0:01  \n",
       "4             2  walterbell   9/30/2015 4:12  "
      ]
     },
     "execution_count": 5,
     "metadata": {},
     "output_type": "execute_result"
    }
   ],
   "source": [
    "df.head(5)"
   ]
  },
  {
   "cell_type": "code",
   "execution_count": 40,
   "metadata": {},
   "outputs": [],
   "source": [
    "df['title'] = df['title'].str.lower()"
   ]
  },
  {
   "cell_type": "code",
   "execution_count": 45,
   "metadata": {},
   "outputs": [],
   "source": [
    "# Ask HN Posts\n",
    "ask_hn = df[df.title.str.contains(\"ask hn\")]\n",
    "\n",
    "# Show HN Posts\n",
    "show_hn = df[df.title.str.contains(\"show hn\")]\n",
    "\n",
    "# Other Posts\n",
    "other = df[~df.title.str.contains(\"ask hn|show hn\")]"
   ]
  },
  {
   "cell_type": "code",
   "execution_count": 58,
   "metadata": {},
   "outputs": [
    {
     "data": {
      "text/plain": [
       "(1170, 8)"
      ]
     },
     "execution_count": 58,
     "metadata": {},
     "output_type": "execute_result"
    }
   ],
   "source": [
    "show_hn.shape"
   ]
  },
  {
   "cell_type": "markdown",
   "metadata": {},
   "source": [
    "Determine if ask posts or show posts receive more comments on average."
   ]
  },
  {
   "cell_type": "code",
   "execution_count": 47,
   "metadata": {},
   "outputs": [
    {
     "name": "stdout",
     "output_type": "stream",
     "text": [
      "Average Ask HN Comments:  14.031518624641834\n"
     ]
    }
   ],
   "source": [
    "# Average Comments\n",
    "avg_ask_comments = ask_hn.num_comments.mean()\n",
    "print('Average Ask HN Comments: ', avg_ask_comments)"
   ]
  },
  {
   "cell_type": "code",
   "execution_count": 48,
   "metadata": {},
   "outputs": [
    {
     "name": "stdout",
     "output_type": "stream",
     "text": [
      "Average Show HN Comments:  10.283760683760685\n"
     ]
    }
   ],
   "source": [
    "avg_show_comments = show_hn.num_comments.mean()\n",
    "print('Average Show HN Comments: ', avg_show_comments)"
   ]
  },
  {
   "cell_type": "markdown",
   "metadata": {},
   "source": [
    "ASK HN posts receive more comments on average"
   ]
  },
  {
   "cell_type": "markdown",
   "metadata": {},
   "source": [
    "Determine if ask posts created at a certain time are more likely to attract comments. "
   ]
  },
  {
   "cell_type": "code",
   "execution_count": 49,
   "metadata": {},
   "outputs": [],
   "source": [
    "# Convert created_at to datetime\n",
    "df['created_at'] = pd.to_datetime(df['created_at'])"
   ]
  },
  {
   "cell_type": "code",
   "execution_count": 57,
   "metadata": {},
   "outputs": [
    {
     "name": "stderr",
     "output_type": "stream",
     "text": [
      "/var/folders/k4/kjh2pd0j6497wkf57lvqhpqw0000gn/T/ipykernel_35169/3820055924.py:2: SettingWithCopyWarning: \n",
      "A value is trying to be set on a copy of a slice from a DataFrame.\n",
      "Try using .loc[row_indexer,col_indexer] = value instead\n",
      "\n",
      "See the caveats in the documentation: https://pandas.pydata.org/pandas-docs/stable/user_guide/indexing.html#returning-a-view-versus-a-copy\n",
      "  ask_hn['hour'] = df['created_at'].dt.hour\n"
     ]
    },
    {
     "data": {
      "text/plain": [
       "hour\n",
       "0      55\n",
       "1      60\n",
       "2      58\n",
       "3      54\n",
       "4      47\n",
       "5      46\n",
       "6      44\n",
       "7      34\n",
       "8      48\n",
       "9      45\n",
       "10     59\n",
       "11     58\n",
       "12     73\n",
       "13     85\n",
       "14    107\n",
       "15    116\n",
       "16    108\n",
       "17    100\n",
       "18    109\n",
       "19    110\n",
       "20     80\n",
       "21    109\n",
       "22     71\n",
       "23     69\n",
       "dtype: int64"
      ]
     },
     "execution_count": 57,
     "metadata": {},
     "output_type": "execute_result"
    }
   ],
   "source": [
    "# Calculate number of Ask HN Posts created in each hour of the day\n",
    "ask_hn['hour'] = df['created_at'].dt.hour\n",
    "\n",
    "ask_by_hour = ask_hn.groupby('hour').size()\n",
    "\n",
    "ask_by_hour"
   ]
  },
  {
   "cell_type": "code",
   "execution_count": 59,
   "metadata": {},
   "outputs": [
    {
     "name": "stderr",
     "output_type": "stream",
     "text": [
      "/var/folders/k4/kjh2pd0j6497wkf57lvqhpqw0000gn/T/ipykernel_35169/3135863470.py:2: SettingWithCopyWarning: \n",
      "A value is trying to be set on a copy of a slice from a DataFrame.\n",
      "Try using .loc[row_indexer,col_indexer] = value instead\n",
      "\n",
      "See the caveats in the documentation: https://pandas.pydata.org/pandas-docs/stable/user_guide/indexing.html#returning-a-view-versus-a-copy\n",
      "  show_hn['hour'] = df['created_at'].dt.hour\n"
     ]
    },
    {
     "data": {
      "text/plain": [
       "hour\n",
       "0      31\n",
       "1      28\n",
       "2      30\n",
       "3      27\n",
       "4      26\n",
       "5      19\n",
       "6      17\n",
       "7      26\n",
       "8      35\n",
       "9      30\n",
       "10     37\n",
       "11     45\n",
       "12     62\n",
       "13    101\n",
       "14     86\n",
       "15     78\n",
       "16     93\n",
       "17     93\n",
       "18     61\n",
       "19     55\n",
       "20     60\n",
       "21     48\n",
       "22     46\n",
       "23     36\n",
       "dtype: int64"
      ]
     },
     "execution_count": 59,
     "metadata": {},
     "output_type": "execute_result"
    }
   ],
   "source": [
    "# Calculate number of Show HN Posts created in each hour of the day\n",
    "show_hn['hour'] = df['created_at'].dt.hour\n",
    "\n",
    "show_by_hour = show_hn.groupby('hour').size()\n",
    "\n",
    "show_by_hour"
   ]
  },
  {
   "cell_type": "code",
   "execution_count": 71,
   "metadata": {},
   "outputs": [
    {
     "data": {
      "text/plain": [
       "hour\n",
       "0      8.127273\n",
       "1     11.383333\n",
       "2     23.810345\n",
       "3      7.796296\n",
       "4      7.170213\n",
       "5     10.086957\n",
       "6      9.022727\n",
       "7      7.852941\n",
       "8     10.250000\n",
       "9      5.577778\n",
       "10    13.440678\n",
       "11    11.051724\n",
       "12     9.410959\n",
       "13    14.741176\n",
       "14    13.233645\n",
       "15    38.594828\n",
       "16    16.796296\n",
       "17    11.460000\n",
       "18    13.201835\n",
       "19    10.800000\n",
       "20    21.525000\n",
       "21    16.009174\n",
       "22     6.746479\n",
       "23     7.898551\n",
       "Name: num_comments, dtype: float64"
      ]
     },
     "execution_count": 71,
     "metadata": {},
     "output_type": "execute_result"
    }
   ],
   "source": [
    "# Calculate average number of comments Ask HN Posts receive by hour created\n",
    "avg_by_hour = ask_hn.groupby('hour').num_comments.mean()\n",
    "\n",
    "avg_by_hour"
   ]
  },
  {
   "cell_type": "code",
   "execution_count": 72,
   "metadata": {},
   "outputs": [
    {
     "data": {
      "text/plain": [
       "hour\n",
       "15    38.594828\n",
       "2     23.810345\n",
       "20    21.525000\n",
       "16    16.796296\n",
       "21    16.009174\n",
       "13    14.741176\n",
       "10    13.440678\n",
       "14    13.233645\n",
       "18    13.201835\n",
       "17    11.460000\n",
       "1     11.383333\n",
       "11    11.051724\n",
       "19    10.800000\n",
       "8     10.250000\n",
       "5     10.086957\n",
       "12     9.410959\n",
       "6      9.022727\n",
       "0      8.127273\n",
       "23     7.898551\n",
       "7      7.852941\n",
       "3      7.796296\n",
       "4      7.170213\n",
       "22     6.746479\n",
       "9      5.577778\n",
       "Name: num_comments, dtype: float64"
      ]
     },
     "execution_count": 72,
     "metadata": {},
     "output_type": "execute_result"
    }
   ],
   "source": [
    "# Identify the top 5 Hours for Ask Posts Comments\n",
    "avg_by_hour.sort_values(ascending=False)"
   ]
  },
  {
   "cell_type": "markdown",
   "metadata": {},
   "source": [
    "Determine if show or ask posts receive more points on average."
   ]
  },
  {
   "cell_type": "code",
   "execution_count": 74,
   "metadata": {},
   "outputs": [
    {
     "data": {
      "text/plain": [
       "num_points    15.05788\n",
       "dtype: float64"
      ]
     },
     "execution_count": 74,
     "metadata": {},
     "output_type": "execute_result"
    }
   ],
   "source": [
    "avg_ask_points = ask_hn[['num_points']].mean()\n",
    "\n",
    "avg_ask_points"
   ]
  },
  {
   "cell_type": "code",
   "execution_count": 75,
   "metadata": {},
   "outputs": [
    {
     "data": {
      "text/plain": [
       "num_points    27.416239\n",
       "dtype: float64"
      ]
     },
     "execution_count": 75,
     "metadata": {},
     "output_type": "execute_result"
    }
   ],
   "source": [
    "avg_show_points = show_hn[['num_points']].mean()\n",
    "\n",
    "avg_show_points"
   ]
  },
  {
   "cell_type": "markdown",
   "metadata": {},
   "source": [
    "Determine if posts created at a certain time are more likely to receive more points."
   ]
  },
  {
   "cell_type": "code",
   "execution_count": 76,
   "metadata": {},
   "outputs": [
    {
     "data": {
      "text/plain": [
       "hour\n",
       "0      8.200000\n",
       "1     11.666667\n",
       "2     13.672414\n",
       "3      6.925926\n",
       "4      8.276596\n",
       "5     12.000000\n",
       "6     13.431818\n",
       "7     10.617647\n",
       "8     10.729167\n",
       "9      7.311111\n",
       "10    18.677966\n",
       "11    14.224138\n",
       "12    10.712329\n",
       "13    24.258824\n",
       "14    11.981308\n",
       "15    29.991379\n",
       "16    23.351852\n",
       "17    19.410000\n",
       "18    15.972477\n",
       "19    13.754545\n",
       "20    14.387500\n",
       "21    15.788991\n",
       "22     7.197183\n",
       "23     8.536232\n",
       "Name: num_points, dtype: float64"
      ]
     },
     "execution_count": 76,
     "metadata": {},
     "output_type": "execute_result"
    }
   ],
   "source": [
    "avg_ask_points_hour = ask_hn.groupby('hour').num_points.mean()\n",
    "\n",
    "avg_ask_points_hour"
   ]
  },
  {
   "cell_type": "code",
   "execution_count": 77,
   "metadata": {},
   "outputs": [
    {
     "data": {
      "text/plain": [
       "hour\n",
       "0     37.838710\n",
       "1     25.000000\n",
       "2     11.333333\n",
       "3     25.148148\n",
       "4     14.846154\n",
       "5      5.473684\n",
       "6     22.176471\n",
       "7     19.000000\n",
       "8     15.000000\n",
       "9     18.433333\n",
       "10    18.432432\n",
       "11    33.155556\n",
       "12    41.241935\n",
       "13    24.316832\n",
       "14    25.430233\n",
       "15    28.564103\n",
       "16    28.322581\n",
       "17    27.107527\n",
       "18    36.311475\n",
       "19    30.945455\n",
       "20    30.316667\n",
       "21    18.145833\n",
       "22    40.347826\n",
       "23    42.388889\n",
       "Name: num_points, dtype: float64"
      ]
     },
     "execution_count": 77,
     "metadata": {},
     "output_type": "execute_result"
    }
   ],
   "source": [
    "avg_show_points_hour = show_hn.groupby('hour').num_points.mean()\n",
    "\n",
    "avg_show_points_hour"
   ]
  },
  {
   "cell_type": "markdown",
   "metadata": {},
   "source": [
    "Compare to the average number of comments and points other posts receive."
   ]
  },
  {
   "cell_type": "code",
   "execution_count": 80,
   "metadata": {},
   "outputs": [
    {
     "name": "stderr",
     "output_type": "stream",
     "text": [
      "/var/folders/k4/kjh2pd0j6497wkf57lvqhpqw0000gn/T/ipykernel_35169/582955293.py:2: SettingWithCopyWarning: \n",
      "A value is trying to be set on a copy of a slice from a DataFrame.\n",
      "Try using .loc[row_indexer,col_indexer] = value instead\n",
      "\n",
      "See the caveats in the documentation: https://pandas.pydata.org/pandas-docs/stable/user_guide/indexing.html#returning-a-view-versus-a-copy\n",
      "  other['hour'] = df['created_at'].dt.hour\n"
     ]
    }
   ],
   "source": [
    "# Calculate number of other posts created in each hour of the day\n",
    "other['hour'] = df['created_at'].dt.hour\n",
    "\n",
    "other_by_hour = show_hn.groupby('hour').size()"
   ]
  },
  {
   "cell_type": "code",
   "execution_count": 82,
   "metadata": {},
   "outputs": [
    {
     "data": {
      "text/plain": [
       "hour\n",
       "0     27.076923\n",
       "1     23.072000\n",
       "2     27.786848\n",
       "3     26.825553\n",
       "4     24.125551\n",
       "5     25.175258\n",
       "6     21.357843\n",
       "7     26.808036\n",
       "8     27.026210\n",
       "9     27.588015\n",
       "10    26.612521\n",
       "11    29.637329\n",
       "12    30.347275\n",
       "13    30.920393\n",
       "14    32.330898\n",
       "15    29.519231\n",
       "16    25.394187\n",
       "17    27.995723\n",
       "18    26.924354\n",
       "19    26.701020\n",
       "20    23.139407\n",
       "21    23.632302\n",
       "22    23.265172\n",
       "23    24.650817\n",
       "Name: num_comments, dtype: float64"
      ]
     },
     "execution_count": 82,
     "metadata": {},
     "output_type": "execute_result"
    }
   ],
   "source": [
    "avg_other_comments_hour = other.groupby('hour').num_comments.mean()\n",
    "\n",
    "avg_other_comments_hour"
   ]
  },
  {
   "cell_type": "code",
   "execution_count": 83,
   "metadata": {},
   "outputs": [
    {
     "data": {
      "text/plain": [
       "hour\n",
       "0     58.458265\n",
       "1     50.606000\n",
       "2     58.471655\n",
       "3     56.921376\n",
       "4     49.667401\n",
       "5     49.966495\n",
       "6     46.235294\n",
       "7     56.832589\n",
       "8     54.092742\n",
       "9     53.936330\n",
       "10    60.483926\n",
       "11    57.637329\n",
       "12    57.397972\n",
       "13    62.585605\n",
       "14    61.786013\n",
       "15    60.542308\n",
       "16    54.182561\n",
       "17    57.978614\n",
       "18    53.928967\n",
       "19    60.011224\n",
       "20    45.244786\n",
       "21    49.420389\n",
       "22    50.236148\n",
       "23    52.095097\n",
       "Name: num_points, dtype: float64"
      ]
     },
     "execution_count": 83,
     "metadata": {},
     "output_type": "execute_result"
    }
   ],
   "source": [
    "avg_other_points_hour = other.groupby('hour').num_points.mean()\n",
    "\n",
    "avg_other_points_hour"
   ]
  },
  {
   "cell_type": "code",
   "execution_count": null,
   "metadata": {},
   "outputs": [],
   "source": []
  }
 ],
 "metadata": {
  "kernelspec": {
   "display_name": "storefront-KWPrtJCG",
   "language": "python",
   "name": "python3"
  },
  "language_info": {
   "codemirror_mode": {
    "name": "ipython",
    "version": 3
   },
   "file_extension": ".py",
   "mimetype": "text/x-python",
   "name": "python",
   "nbconvert_exporter": "python",
   "pygments_lexer": "ipython3",
   "version": "3.10.0"
  }
 },
 "nbformat": 4,
 "nbformat_minor": 2
}
